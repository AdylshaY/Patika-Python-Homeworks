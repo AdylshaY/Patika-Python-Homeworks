{
 "cells": [
  {
   "cell_type": "markdown",
   "id": "e816c723",
   "metadata": {},
   "source": [
    "# Soru 1"
   ]
  },
  {
   "cell_type": "markdown",
   "id": "03deebf2",
   "metadata": {},
   "source": [
    "1- Bir listeyi düzleştiren (flatten) fonksiyon yazın. Elemanları birden çok katmanlı listelerden ([[3],2] gibi) oluşabileceği gibi, non-scalar verilerden de oluşabilir. Örnek olarak:\n",
    "\n",
    "input: [ [1, 'a', ['cat'], 2], [[[3]],'dog'],4,5]\n",
    "\n",
    "output: [1,'a','cat',2,3,'dog',4,5]"
   ]
  },
  {
   "cell_type": "code",
   "execution_count": 70,
   "id": "9267e6a1",
   "metadata": {},
   "outputs": [
    {
     "name": "stdout",
     "output_type": "stream",
     "text": [
      "[1, 'a', 'cat', 2, 3, 'dog', 4, 5]\n"
     ]
    }
   ],
   "source": [
    "array = [[1, 'a', ['cat'], 2], [[[3]], 'dog'], 4, 5]\n",
    "\n",
    "# def FlattenList(array):\n",
    "#     l = []\n",
    "#     for a in array:\n",
    "#         if IsList(a):\n",
    "#             for b in a:\n",
    "#                 if IsList(b):\n",
    "#                     for c in b:\n",
    "#                         if IsList(c):\n",
    "#                             for d in c:\n",
    "#                                 if IsList(d):\n",
    "#                                     for e in d:\n",
    "#                                         pass\n",
    "#                                 else:\n",
    "#                                     l.append(d)\n",
    "#                         else:\n",
    "#                             l.append(c)\n",
    "#                 else:\n",
    "#                     l.append(b)\n",
    "#         else:\n",
    "#             l.append(a)\n",
    "#     return l\n",
    "\n",
    "def IsList(array):\n",
    "    if type(array) == list:\n",
    "        return True\n",
    "    else:\n",
    "        return False\n",
    "    \n",
    "l = []\n",
    "def FlattenList(array):\n",
    "    length = len(array)\n",
    "    for i in range(0,length):\n",
    "        if IsList(array[i]):\n",
    "            f(array[i])\n",
    "        else:\n",
    "            l.append(array[i])\n",
    "    return l\n",
    "\n",
    "\n",
    "print(FlattenList(array))"
   ]
  },
  {
   "cell_type": "code",
   "execution_count": 69,
   "id": "aa1beb3c",
   "metadata": {},
   "outputs": [
    {
     "data": {
      "text/plain": [
       "[1, 'a', 'cat', 2, 3, 'dog', 4, 5]"
      ]
     },
     "execution_count": 69,
     "metadata": {},
     "output_type": "execute_result"
    }
   ],
   "source": [
    "FlattenList(array)"
   ]
  },
  {
   "cell_type": "markdown",
   "id": "5fd1b405",
   "metadata": {},
   "source": [
    "# Soru 2"
   ]
  },
  {
   "cell_type": "markdown",
   "id": "a140ec3c",
   "metadata": {},
   "source": [
    "2- Verilen listenin içindeki elemanları tersine döndüren bir fonksiyon yazın. Eğer listenin içindeki elemanlar da liste içeriyorsa onların elemanlarını da tersine döndürün. Örnek olarak:\n",
    "\n",
    "input: [[1, 2], [3, 4], [5, 6, 7]]\n",
    "\n",
    "output: [[[7, 6, 5], [4, 3], [2, 1]]"
   ]
  },
  {
   "cell_type": "code",
   "execution_count": null,
   "id": "5216dac9",
   "metadata": {},
   "outputs": [],
   "source": []
  },
  {
   "cell_type": "code",
   "execution_count": null,
   "id": "3e47e642",
   "metadata": {},
   "outputs": [],
   "source": []
  }
 ],
 "metadata": {
  "kernelspec": {
   "display_name": "Python 3 (ipykernel)",
   "language": "python",
   "name": "python3"
  },
  "language_info": {
   "codemirror_mode": {
    "name": "ipython",
    "version": 3
   },
   "file_extension": ".py",
   "mimetype": "text/x-python",
   "name": "python",
   "nbconvert_exporter": "python",
   "pygments_lexer": "ipython3",
   "version": "3.9.7"
  }
 },
 "nbformat": 4,
 "nbformat_minor": 5
}
